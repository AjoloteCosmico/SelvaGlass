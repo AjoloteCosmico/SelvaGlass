{
 "cells": [
  {
   "cell_type": "code",
   "execution_count": 1,
   "metadata": {},
   "outputs": [],
   "source": [
    "#Generar codigo asi noma porque k hueva\n",
    "def generate_input(name,label,options):\n",
    "    print('',\"\"\"<div class=\"form-group\">\"\"\")\n",
    "    print('',\"\"\"  <x-jet-label value=\"* \"\"\"+label+\"\"\"\" />\"\"\")\n",
    "    \n",
    "    print('',\"\"\"    <select class=\"form-capture  w-full text-xs uppercase\"  name='\"\"\"+name+\"\"\"'> \"\"\")                \n",
    "    for i in options:\n",
    "        print('',\"\"\"        <option value='\"\"\"+i+\"\"\"' @if(old('\"\"\"+name+\"\"\"')=='\"\"\"+i+\"\"\"') selected @endif> \"\"\"+i+\"\"\"</option>\"\"\")\n",
    "    print('',\"\"\"     </select>\"\"\")\n",
    "                    \n",
    "    print('',\"\"\"   <x-jet-input-error for='\"\"\"+name+\"\"\"' />\"\"\")\n",
    "    print('',\"\"\"</div>\"\"\")"
   ]
  },
  {
   "cell_type": "code",
   "execution_count": 2,
   "metadata": {},
   "outputs": [
    {
     "name": "stdout",
     "output_type": "stream",
     "text": [
      " <div class=\"form-group\">\n",
      "   <x-jet-label value=\"* Precio de venta\" />\n",
      "     <select class=\"form-capture  w-full text-xs uppercase\"  name='price'> \n",
      "         <option value='PUBLICO' @if(old('price')=='PUBLICO') selected @endif> PUBLICO</option>\n",
      "         <option value='VIDRIERO' @if(old('price')=='VIDRIERO') selected @endif> VIDRIERO</option>\n",
      "         <option value='MAYORISTA' @if(old('price')=='MAYORISTA') selected @endif> MAYORISTA</option>\n",
      "      </select>\n",
      "    <x-jet-input-error for='price' />\n",
      " </div>\n"
     ]
    }
   ],
   "source": [
    "generate_input(\"price\",\"Precio de venta\",[\"PUBLICO\",\"VIDRIERO\",\"MAYORISTA\"])"
   ]
  },
  {
   "cell_type": "code",
   "execution_count": null,
   "metadata": {},
   "outputs": [],
   "source": []
  }
 ],
 "metadata": {
  "kernelspec": {
   "display_name": "Python 3",
   "language": "python",
   "name": "python3"
  },
  "language_info": {
   "codemirror_mode": {
    "name": "ipython",
    "version": 3
   },
   "file_extension": ".py",
   "mimetype": "text/x-python",
   "name": "python",
   "nbconvert_exporter": "python",
   "pygments_lexer": "ipython3",
   "version": "3.10.7"
  }
 },
 "nbformat": 4,
 "nbformat_minor": 2
}
